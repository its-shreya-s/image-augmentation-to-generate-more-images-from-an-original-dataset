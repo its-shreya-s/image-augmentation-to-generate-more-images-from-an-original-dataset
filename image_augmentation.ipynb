{
  "cells": [
    {
      "cell_type": "code",
      "execution_count": null,
      "metadata": {},
      "outputs": [],
      "source": [
        "# GITHUB: https://github.com/its-shreya-s"
      ]
    },
    {
      "cell_type": "markdown",
      "metadata": {
        "id": "Kl_WEJK3a5UU"
      },
      "source": [
        "This is a simple but useful code to perform image augmentation to generate more images than present in the original dataset for image related tasks like binary classification."
      ]
    },
    {
      "cell_type": "code",
      "execution_count": null,
      "metadata": {
        "id": "7FIDRNVgOVoj"
      },
      "outputs": [],
      "source": [
        "import os\n",
        "import numpy as np\n",
        "import matplotlib.pyplot as plt\n",
        "from keras.preprocessing.image import ImageDataGenerator, array_to_img, img_to_array, load_img"
      ]
    },
    {
      "cell_type": "code",
      "execution_count": null,
      "metadata": {
        "id": "7sP6ZJppOYRt"
      },
      "outputs": [],
      "source": [
        "# Directory containing the original images\n",
        "original_dataset_dir = ''\n",
        "\n",
        "# Directory to save the augmented images\n",
        "augmented_dataset_dir = ''\n",
        "\n",
        "# Ensure the directory for augmented images exists\n",
        "os.makedirs(augmented_dataset_dir, exist_ok=True)"
      ]
    },
    {
      "cell_type": "code",
      "execution_count": null,
      "metadata": {
        "id": "WENVvwObOoHS"
      },
      "outputs": [],
      "source": [
        "# Create an ImageDataGenerator instance for data augmentation\n",
        "datagen = ImageDataGenerator(\n",
        "    rotation_range=40,\n",
        "    width_shift_range=0.2,\n",
        "    height_shift_range=0.2,\n",
        "    shear_range=0.2,\n",
        "    zoom_range=0.2,\n",
        "    horizontal_flip=True,\n",
        "    fill_mode='nearest'\n",
        ")\n",
        "\n",
        "# Load each original image, perform data augmentation, and save the augmented images\n",
        "for i, filename in enumerate(os.listdir(original_dataset_dir)):\n",
        "    img = load_img(os.path.join(original_dataset_dir, filename))  # Load image\n",
        "    x = img_to_array(img)  # Convert to NumPy array\n",
        "    x = x.reshape((1,) + x.shape)  # Reshape to (1, height, width, channels)\n",
        "\n",
        "    # Generate augmented images and save to disk\n",
        "    j = 0\n",
        "    for batch in datagen.flow(x, batch_size=1, save_to_dir=augmented_dataset_dir, save_prefix='cashew', save_format='jpeg'):\n",
        "        j += 1\n",
        "        if j >= 8:  # Generate 8 augmented images per original image\n",
        "            break\n",
        "\n",
        "print(\"Augmentation complete\")\n"
      ]
    }
  ],
  "metadata": {
    "colab": {
      "provenance": []
    },
    "kernelspec": {
      "display_name": "Python 3",
      "name": "python3"
    },
    "language_info": {
      "name": "python"
    }
  },
  "nbformat": 4,
  "nbformat_minor": 0
}
